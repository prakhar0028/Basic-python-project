{
 "cells": [
  {
   "cell_type": "code",
   "execution_count": 1,
   "id": "9d651cfb",
   "metadata": {},
   "outputs": [],
   "source": [
    "import random"
   ]
  },
  {
   "cell_type": "code",
   "execution_count": 4,
   "id": "d28b5ae6",
   "metadata": {},
   "outputs": [],
   "source": [
    "def snake_gun_water_game():\n",
    "    \n",
    "    while True:\n",
    "        computer_choice = random.choice([\"snake\",\"gun\",\"water\"])\n",
    "        user_input = input(\"What you like to choose : Sanke , Water or Gun :\")\n",
    "        \n",
    "        if (user_input.lower() == \"snake\" and computer_choice == \"gun\") or (user_input.lower() == \"gun\" and computer_choice == \"water\") or (user_input.lower() == \"water\" and computer_choice == \"snake\"):\n",
    "            print(\"Computer's choice:\" , computer_choice)\n",
    "            print(\"Computer wins\")\n",
    "            break\n",
    "            \n",
    "        elif (user_input.lower() == \"snake\" and computer_choice == \"water\") or (user_input.lower() == \"gun\" and computer_choice == \"snake\") or (user_input.lower() == \"water\" and computer_choice == \"gun\"): \n",
    "            print(\"Computer's choice:\" ,computer_choice)\n",
    "            print(\"You win\")\n",
    "            break\n",
    "            \n",
    "        elif (user_input.lower() == \"water\" and computer_choice == \"water\") or (user_input.lower() == \"snake\" and computer_choice == \"snake\") or (user_input.lower() == \"gun\" and computer_choice == \"gun\"):\n",
    "            print(\"Computer's choice:\" ,computer_choice)\n",
    "            print(\"No winner\")\n",
    "            x = input(\"If want to continue, enter Y else press any key to exit:\")\n",
    "            if x.lower() != \"y\":\n",
    "                break\n",
    "                \n",
    "        else:\n",
    "            print(\"Your input formate is wrong. Try again:\")\n",
    "            \n",
    "    \n",
    "    "
   ]
  },
  {
   "cell_type": "code",
   "execution_count": 5,
   "id": "619a74a3",
   "metadata": {},
   "outputs": [
    {
     "name": "stdout",
     "output_type": "stream",
     "text": [
      "What you like to choose : Sanke , Water or Gun :rock\n",
      "Your input formate is wrong. Try again:\n",
      "What you like to choose : Sanke , Water or Gun :gum\n",
      "Your input formate is wrong. Try again:\n",
      "What you like to choose : Sanke , Water or Gun :gun\n",
      "Computer's choice: snake\n",
      "You win\n"
     ]
    }
   ],
   "source": [
    "snake_gun_water_game()\n"
   ]
  },
  {
   "cell_type": "code",
   "execution_count": null,
   "id": "b440a20f",
   "metadata": {},
   "outputs": [],
   "source": []
  }
 ],
 "metadata": {
  "kernelspec": {
   "display_name": "Python 3 (ipykernel)",
   "language": "python",
   "name": "python3"
  },
  "language_info": {
   "codemirror_mode": {
    "name": "ipython",
    "version": 3
   },
   "file_extension": ".py",
   "mimetype": "text/x-python",
   "name": "python",
   "nbconvert_exporter": "python",
   "pygments_lexer": "ipython3",
   "version": "3.9.7"
  }
 },
 "nbformat": 4,
 "nbformat_minor": 5
}
