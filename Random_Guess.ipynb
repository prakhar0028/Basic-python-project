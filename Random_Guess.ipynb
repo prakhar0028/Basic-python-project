{
 "cells": [
  {
   "cell_type": "code",
   "execution_count": 2,
   "id": "1b9e82f7",
   "metadata": {},
   "outputs": [],
   "source": [
    "import random"
   ]
  },
  {
   "cell_type": "code",
   "execution_count": null,
   "id": "858184ed",
   "metadata": {},
   "outputs": [],
   "source": [
    "def random_guess_game():\n",
    "    number = random.randint(1,100)\n",
    "    counter = 0\n",
    "    while True:\n",
    "        counter += 1\n",
    "        try:\n",
    "            user_guess = int(input(\"Guess the number:\"))\n",
    "            if user_guess > number:\n",
    "                print(\"Enter a lower number to win the game:\")\n",
    "            elif user_guess < number:\n",
    "                print(\"Enter a larger number to win the game:\")\n",
    "            else:\n",
    "                print(f\"Hurrah!, You win. You have taken {counter} attempts \" )\n",
    "                break\n",
    "        except:\n",
    "            print(\"Your input is not in a right format.\")\n",
    "            "
   ]
  },
  {
   "cell_type": "code",
   "execution_count": null,
   "id": "2a9c8160",
   "metadata": {},
   "outputs": [
    {
     "name": "stdout",
     "output_type": "stream",
     "text": [
      "Guess the number:rr\n",
      "Your input is not in a right format.\n"
     ]
    }
   ],
   "source": [
    "random_guess_game()"
   ]
  },
  {
   "cell_type": "code",
   "execution_count": null,
   "id": "1ecd2114",
   "metadata": {},
   "outputs": [],
   "source": []
  }
 ],
 "metadata": {
  "kernelspec": {
   "display_name": "Python 3 (ipykernel)",
   "language": "python",
   "name": "python3"
  },
  "language_info": {
   "codemirror_mode": {
    "name": "ipython",
    "version": 3
   },
   "file_extension": ".py",
   "mimetype": "text/x-python",
   "name": "python",
   "nbconvert_exporter": "python",
   "pygments_lexer": "ipython3",
   "version": "3.9.7"
  }
 },
 "nbformat": 4,
 "nbformat_minor": 5
}
